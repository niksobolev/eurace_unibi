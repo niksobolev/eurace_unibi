{
 "cells": [
  {
   "cell_type": "code",
   "execution_count": null,
   "metadata": {},
   "outputs": [],
   "source": [
    "import pandas as pd\n",
    "import xml.etree.ElementTree as ET\n",
    "import plotly.express as px\n",
    "import os\n",
    "from datetime import datetime"
   ]
  },
  {
   "cell_type": "markdown",
   "metadata": {},
   "source": [
    "## Set ranges for OFAT analysis and defaults values for all parameters."
   ]
  },
  {
   "cell_type": "code",
   "execution_count": 4,
   "metadata": {},
   "outputs": [],
   "source": [
    "dict_of_ofat = {'const_dividend_earnings_ratio': [i/10 for i in range(0, 11, 1)],\n",
    "               'const_income_tax_rate': [i/100 for i in range(0, 91, 2)],\n",
    "               'ecb_interest_rate' : [i/100 for i in range(-6, 25, 2)],\n",
    "               'gov_policy_swith_quantitative_easing' : [0,1]}\n",
    "\n",
    "default_values = {'const_dividend_earnings_ratio': 0.7,\n",
    "                 'const_income_tax_rate' : 0.05,\n",
    "                 'ecb_interest_rate' : 0.05,\n",
    "                 'gov_policy_swith_quantitative_easing' : 0}"
   ]
  },
  {
   "cell_type": "markdown",
   "metadata": {},
   "source": [
    "This block of code copies initial file to a folder for OFAT experiment.\\\n",
    "Then it changes parameters' values in the file to those we need for OFAT.\n",
    "\n",
    "**Note:** values you want to change for OFAT analysis should be set to 0 in the initial file. I use sed for setting of proper values for OFAT. This is fine because I worked with environmental variables that are listed in the file in a single copy.\n",
    "\n",
    "**TODO:** Use XML parser for setting values without sed.\\\n",
    "**TODO2:** Add a parallel execution of this code. I've been using a couple of Jupyter instances instead, because the bottleneck was the disk capacity but not the execution speed.\\\n",
    "**TODO3:** Make the model save only those variables, that you need. This will reduce the execution time. Now writing all this info to a disk takes a lot of time. Also a capacity is a problem. "
   ]
  },
  {
   "cell_type": "code",
   "execution_count": null,
   "metadata": {},
   "outputs": [],
   "source": [
    "path = '/data/home/nsov/eurace/original/reproduce_results/'\n",
    "path_to_initial = '/data/home/nsov/eurace/original/trial2/its/cbs_new_stable_point.xml'\n",
    "\n",
    "\n",
    "number_of_years = 2\n",
    "days = 20 * 12 * number_of_years\n",
    "\n",
    "global_number = 0\n",
    "\n",
    "print(datetime.now().strftime(\"%H:%M:%S\"))\n",
    "\n",
    "for param, values in dict_of_ofat.items():\n",
    "    for case in values:\n",
    "        local_ofat_dict = default_values.copy()\n",
    "        local_ofat_dict[param] = case\n",
    "        for i in range(10,15):\n",
    "            global_number += 1\n",
    "            current_dir = path+\"test_div_{number}\".format(number= global_number)\n",
    "            try:\n",
    "                os.mkdir(current_dir)\n",
    "            except OSError:\n",
    "                print('ERROR: Failed to create {cur_dir}'.format(cur_dir = current_dir))\n",
    "            os.system('cp {init_file} {target}/0_initial.xml'.format(init_file = path_to_initial, target = current_dir))\n",
    "            os.system('sed -i -e \"s/<GSL_RNG_SEED>0<\\/GSL_RNG_SEED>/<GSL_RNG_SEED>{num}<\\/GSL_RNG_SEED>/\" {cur_dir}/0_initial.xml'.format(num = int(i), cur_dir = current_dir))\n",
    "            for parameter, set_value in local_ofat_dict.items():\n",
    "                os.system('sed -i -e \"s/<{parameter}>0<\\/{parameter}>/<{parameter}>{set_value}<\\/{parameter}>/\" {cur_dir}/0_initial.xml'.format(parameter = parameter, set_value = set_value, cur_dir = current_dir))\n",
    "            os.system('/data/home/nsov/eurace/original/trial2/main {days} {cur_dir}/0_initial.xml -f 20'.format(days = days, cur_dir=current_dir))\n",
    "        print('Done for '+current_dir)\n",
    "        print(datetime.now().strftime(\"%H:%M:%S\"))\n"
   ]
  },
  {
   "cell_type": "code",
   "execution_count": null,
   "metadata": {},
   "outputs": [],
   "source": []
  }
 ],
 "metadata": {
  "kernelspec": {
   "display_name": "Python 3",
   "language": "python",
   "name": "python3"
  },
  "language_info": {
   "codemirror_mode": {
    "name": "ipython",
    "version": 3
   },
   "file_extension": ".py",
   "mimetype": "text/x-python",
   "name": "python",
   "nbconvert_exporter": "python",
   "pygments_lexer": "ipython3",
   "version": "3.7.4"
  }
 },
 "nbformat": 4,
 "nbformat_minor": 4
}
