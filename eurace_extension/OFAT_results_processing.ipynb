{
 "cells": [
  {
   "cell_type": "markdown",
   "metadata": {},
   "source": [
    "### Import libraries that we use"
   ]
  },
  {
   "cell_type": "code",
   "execution_count": 26,
   "metadata": {},
   "outputs": [],
   "source": [
    "import pandas as pd\n",
    "import xml.etree.ElementTree as ET\n",
    "import plotly.express as px\n",
    "import os\n",
    "import seaborn as sns\n",
    "import matplotlib.pyplot as plt\n",
    "import plotly.graph_objs as go\n",
    "import scipy\n",
    "import numpy as np\n",
    "import scipy.fftpack\n",
    "from itertools import islice\n",
    "from scipy import signal\n",
    "import statistics as stat"
   ]
  },
  {
   "cell_type": "markdown",
   "metadata": {},
   "source": [
    "### Set a list of days that script tries to read from directory with results"
   ]
  },
  {
   "cell_type": "code",
   "execution_count": 2,
   "metadata": {},
   "outputs": [],
   "source": [
    "num_of_days = 480\n",
    "step = 20\n",
    "current_day_list = 0\n",
    "file_names_list = []\n",
    "days_to_iterate = current_day_list + num_of_days\n",
    "        \n",
    "while current_day_list < days_to_iterate+step:\n",
    "    file_names_list.append(current_day_list)\n",
    "    current_day_list += step"
   ]
  },
  {
   "cell_type": "markdown",
   "metadata": {},
   "source": [
    "### Read data from directories\n",
    "Firstly we should to set a variable with a path to directory with results and a number of samples in this folder.\n",
    "\n",
    "This script parse data only for Eurostat agent and for environment. Other agents can be added the similar way."
   ]
  },
  {
   "cell_type": "code",
   "execution_count": null,
   "metadata": {},
   "outputs": [
    {
     "name": "stdout",
     "output_type": "stream",
     "text": [
      "Done for test_div_100\n",
      "Done for test_div_200\n",
      "Done for test_div_300\n",
      "Done for test_div_400\n",
      "Done for test_div_500\n",
      "Done for test_div_600\n",
      "Done for test_div_700\n",
      "Done for test_div_800\n",
      "Done for test_div_900\n",
      "Done for test_div_1000\n",
      "Done for test_div_1100\n",
      "Done for test_div_1200\n",
      "Done for test_div_1300\n"
     ]
    }
   ],
   "source": [
    "number_of_samples = 1499\n",
    "root_path = '/data/home/nsov/eurace/original/reproduce_results/'\n",
    "\n",
    "last_day = max(file_names_list)\n",
    "large_dataframe = pd.DataFrame()\n",
    "\n",
    "for num in range(1, number_of_samples + 1):\n",
    "    case_name = 'test_div_' + str(num)\n",
    "    dir_name = case_name# + '_' + str(num)\n",
    "    current_dir = root_path + dir_name\n",
    "    try:\n",
    "        df = pd.DataFrame()\n",
    "\n",
    "        for file in file_names_list: \n",
    "            if file == 0:\n",
    "                xml_data = open(current_dir + '/{}.xml'.format('0_initial'), 'r').read()  # Read file\n",
    "            else:\n",
    "                xml_data = open(current_dir + '/{}.xml'.format(file), 'r').read()  # Read file\n",
    "            root = ET.XML(xml_data)  # Parse XML\n",
    "\n",
    "            data = []\n",
    "            cols = []\n",
    "            names = []\n",
    "            for i, child in enumerate(root):\n",
    "                try:\n",
    "                    names.append(child.find('name').text)\n",
    "                except:\n",
    "                    pass\n",
    "                if child.tag == 'xagent':\n",
    "                    if child.find('name').text == 'Eurostat':\n",
    "                        data.append([subchild.text for subchild in child]) #Eurostat variables for this day\n",
    "                        data[0].extend(run_info) # Attach info about environment\n",
    "                        data[0].append(itno) # Attach number of iteration\n",
    "                        if file == last_day: #Update columns names the same way as lists above\n",
    "                            cols = [subchild.tag for subchild in child]\n",
    "                            cols.extend(run_info_tags)\n",
    "                            cols.append('itno')\n",
    "                elif child.tag == 'environment': # save data about environment\n",
    "                    if file == 0: #We need to extract this information only once\n",
    "                        run_info = [subchild.text for subchild in child]\n",
    "                        run_info_tags = [subchild.tag for subchild in child]\n",
    "                elif child.tag == 'itno': # save iteration number\n",
    "                    itno = child.text\n",
    "            df2 = pd.DataFrame(data)\n",
    "            df = pd.concat([df, df2], ignore_index=True)\n",
    "            if file == last_day:\n",
    "                df.columns = cols  # Update column names\n",
    "        df['run_number'] = [num] * len(df)\n",
    "        large_dataframe = pd.concat([large_dataframe, df])\n",
    "        if (num % 100) == 0:\n",
    "            print('Done for ' + dir_name)\n",
    "    except:\n",
    "        print('Error for ' + dir_name)"
   ]
  },
  {
   "cell_type": "markdown",
   "metadata": {},
   "source": [
    "### Move parameters that we will use to numeric values"
   ]
  },
  {
   "cell_type": "code",
   "execution_count": 6,
   "metadata": {},
   "outputs": [],
   "source": [
    "large_dataframe.const_dividend_earnings_ratio = pd.to_numeric(large_dataframe.const_dividend_earnings_ratio)\n",
    "large_dataframe.gov_policy_swith_quantitative_easing = pd.to_numeric(large_dataframe.gov_policy_swith_quantitative_easing)\n",
    "large_dataframe.ecb_interest_rate = pd.to_numeric(large_dataframe.ecb_interest_rate)\n",
    "large_dataframe.const_income_tax_rate = pd.to_numeric(large_dataframe.const_income_tax_rate)\n",
    "large_dataframe.igfirm_exogenous_innovation_probability = pd.to_numeric(large_dataframe.igfirm_exogenous_innovation_probability)\n",
    "large_dataframe.unemployment_rate = pd.to_numeric(large_dataframe.unemployment_rate)\n",
    "large_dataframe.gov_policy_gdp_fraction_investment = pd.to_numeric(large_dataframe.gov_policy_gdp_fraction_investment)\n",
    "large_dataframe.itno = pd.to_numeric(large_dataframe.itno)\n",
    "large_dataframe.gdp = pd.to_numeric(large_dataframe.gdp)"
   ]
  },
  {
   "cell_type": "markdown",
   "metadata": {},
   "source": [
    "**This block shows how changed an output curve of unemployment for different dividends payout ratio settings.**\n",
    "\n",
    "This part of code is not important for OFAT analysis. It can be used for observing how the model acts on early stages."
   ]
  },
  {
   "cell_type": "code",
   "execution_count": 8,
   "metadata": {},
   "outputs": [
    {
     "data": {
      "image/png": "[encoded data removed]",
      "text/plain": [
       "<Figure size 432x288 with 1 Axes>"
      ]
     },
     "metadata": {
      "needs_background": "light"
     },
     "output_type": "display_data"
    }
   ],
   "source": [
    "for div in [i/10 for i in range(1, 10, 1)]:\n",
    "    plt.errorbar([i*20 for i in range(25)],large_dataframe.loc[(large_dataframe.gov_policy_swith_quantitative_easing == 0)\n",
    "                       & (large_dataframe.ecb_interest_rate == 0.05) & (large_dataframe.const_income_tax_rate == 0.05)\n",
    "                       & (large_dataframe.const_dividend_earnings_ratio == div) & (large_dataframe.gov_policy_gdp_fraction_investment == 0)\n",
    "                       & (large_dataframe.igfirm_exogenous_innovation_probability == 5)].groupby('itno').unemployment_rate.mean(),\n",
    "                large_dataframe.loc[(large_dataframe.gov_policy_swith_quantitative_easing == 0)\n",
    "                       & (large_dataframe.ecb_interest_rate == 0.05) & (large_dataframe.const_income_tax_rate == 0.05)\n",
    "                       & (large_dataframe.const_dividend_earnings_ratio == div) & (large_dataframe.gov_policy_gdp_fraction_investment == 0)\n",
    "                       & (large_dataframe.igfirm_exogenous_innovation_probability == 5)].groupby('itno').unemployment_rate.std())"
   ]
  },
  {
   "cell_type": "markdown",
   "metadata": {},
   "source": [
    "### Build OFAT plots\n",
    "\n",
    "This block of code shows OFAT curve and std bands.\n",
    "\n",
    "**Important:** Std bands are counted as std of all daily values. Thus, these bands are large due to high volatility of the output. If you want to see std of mean values of experiments, then use next block.\n",
    "\n",
    "This block of code does not work automatically for all variables. Now it's manual.\n",
    "You need to set ```ofat_var``` to a parameter you want to examine and list other variables you want to keep fixed in ```y_base``` setting."
   ]
  },
  {
   "cell_type": "code",
   "execution_count": 13,
   "metadata": {
    "tags": []
   },
   "outputs": [
    {
     "name": "stderr",
     "output_type": "stream",
     "text": [
      "/opt/Anaconda3/lib/python3.7/site-packages/ipykernel_launcher.py:15: SettingWithCopyWarning:\n",
      "\n",
      "\n",
      "A value is trying to be set on a copy of a slice from a DataFrame.\n",
      "Try using .loc[row_indexer,col_indexer] = value instead\n",
      "\n",
      "See the caveats in the documentation: https://pandas.pydata.org/pandas-docs/stable/user_guide/indexing.html#returning-a-view-versus-a-copy\n",
      "\n"
     ]
    }
   ],
   "source": [
    "ofat_variables = ['const_dividend_earnings_ratio',\n",
    "                 'const_income_tax_rate',\n",
    "                 'ecb_interest_rate',\n",
    "                 'gov_policy_swith_quantitative_easing']\n",
    "\n",
    "ofat_var = 'ecb_interest_rate'\n",
    "\n",
    "list_of_lines_ofat = []\n",
    "x = np.sort(large_dataframe[ofat_var].unique())\n",
    "y_base = large_dataframe.loc[(large_dataframe.gov_policy_swith_quantitative_easing == 0)\n",
    "                       &  (large_dataframe.const_dividend_earnings_ratio == 0.7) &  (large_dataframe.const_income_tax_rate == 0.05)\n",
    "                       & (large_dataframe.gov_policy_gdp_fraction_investment == 0) & (large_dataframe.igfirm_exogenous_innovation_probability == 5)\n",
    "                       &  (large_dataframe.itno >= 240)]\n",
    "gdp_diff = y_base.groupby('run_number').gdp.diff()\n",
    "y_base['gdp_diff'] = gdp_diff/y_base['gdp']\n",
    "y_base = y_base.groupby(ofat_var).gdp_diff\n",
    "\n",
    "y = y_base.mean()\n",
    "y_std = y_base.std()\n",
    "y_err_up = y + y_std\n",
    "y_err_down = y - y_std\n",
    "list_of_lines_ofat.append(\n",
    "    go.Scatter(\n",
    "        name=str(ofat_var),\n",
    "        x=x,\n",
    "        y=y,\n",
    "        mode='lines'\n",
    "    ))\n",
    "list_of_lines_ofat.append(\n",
    "    go.Scatter(\n",
    "        name=str(ofat_var) + ' (std)',\n",
    "        x=np.append(x,x[::-1]), # x, then x reversed\n",
    "        y=np.append(y_err_up,y_err_down[::-1]),\n",
    "        fill='toself',\n",
    "        fillcolor='rgba(0,0,150,0.2)',\n",
    "        line=dict(color='rgba(255,255,255,0)'),\n",
    "        hoverinfo=\"skip\",\n",
    "        showlegend=True\n",
    "    ))\n",
    "\n",
    "fig = go.Figure(list_of_lines_ofat)\n",
    "fig.update_layout(xaxis_title=ofat_var,\n",
    "                 yaxis_title='Unemployment')\n",
    "fig.write_html(str(ofat_var)+\"_ofat_qe0.html\")"
   ]
  },
  {
   "cell_type": "markdown",
   "metadata": {},
   "source": [
    "### Build OFAT plots\n",
    "\n",
    "This block of code shows OFAT curve and std bands.\n",
    "\n",
    "**Important:** Std bands are counted as std of mean values of experiments. If you want to see std of all daily values, then use previous block.\n",
    "\n",
    "This block of code does not work automatically for all variables. Now it's manual.\n",
    "You need to set ```ofat_var``` to a parameter you want to examine and list other variables you want to keep fixed in ```y_base``` setting."
   ]
  },
  {
   "cell_type": "code",
   "execution_count": 23,
   "metadata": {},
   "outputs": [
    {
     "name": "stderr",
     "output_type": "stream",
     "text": [
      "/opt/Anaconda3/lib/python3.7/site-packages/ipykernel_launcher.py:18: SettingWithCopyWarning:\n",
      "\n",
      "\n",
      "A value is trying to be set on a copy of a slice from a DataFrame.\n",
      "Try using .loc[row_indexer,col_indexer] = value instead\n",
      "\n",
      "See the caveats in the documentation: https://pandas.pydata.org/pandas-docs/stable/user_guide/indexing.html#returning-a-view-versus-a-copy\n",
      "\n"
     ]
    }
   ],
   "source": [
    "ofat_variables = ['const_dividend_earnings_ratio',\n",
    "                 'const_income_tax_rate',\n",
    "                 'ecb_interest_rate',\n",
    "                 'gov_policy_swith_quantitative_easing']\n",
    "\n",
    "ofat_var = 'const_income_tax_rate'\n",
    "\n",
    "n = 12 #Number of month in observed experiment\n",
    "\n",
    "list_of_lines_ofat = []\n",
    "x = np.sort(large_dataframe[ofat_var].unique())\n",
    "y_base = large_dataframe.loc[(large_dataframe.gov_policy_swith_quantitative_easing == 0)\n",
    "                       &  (large_dataframe.const_dividend_earnings_ratio == 0.7) &  (large_dataframe.ecb_interest_rate == 0.05)\n",
    "                       & (large_dataframe.gov_policy_gdp_fraction_investment == 0) & (large_dataframe.igfirm_exogenous_innovation_probability == 5)\n",
    "                       &  (large_dataframe.itno >= 240)]\n",
    "gdp_groups = y_base.groupby('run_number').gdp\n",
    "gdp_diff = gdp_groups.diff()\n",
    "y_base['gdp_diff'] = gdp_diff/y_base['gdp']\n",
    "y_base = y_base.groupby(ofat_var).gdp_diff\n",
    "\n",
    "y = y_base.mean()\n",
    "# y_std = y_base.std()\n",
    "y_std_list = []\n",
    "\n",
    "for x_add, y_add in y_base:\n",
    "    group = y_add.dropna()\n",
    "    group_new = [stat.mean(list(group)[i:i + n]) for i in range(0, len(group), n)]\n",
    "    y_std_list.append(stat.stdev(group_new))\n",
    "\n",
    "y_std = pd.Series(y_std_list)\n",
    "y= y.reset_index(drop = True)\n",
    "\n",
    "y_err_up = y + y_std\n",
    "y_err_down = y - y_std\n",
    "list_of_lines_ofat.append(\n",
    "    go.Scatter(\n",
    "        name=str(ofat_var),\n",
    "        x=x,\n",
    "        y=y,\n",
    "        mode='lines'\n",
    "    ))\n",
    "list_of_lines_ofat.append(\n",
    "    go.Scatter(\n",
    "        name=str(ofat_var) + ' (std)',\n",
    "        x=np.append(x,x[::-1]), # x, then x reversed\n",
    "        y=np.append(y_err_up,y_err_down[::-1]),\n",
    "        fill='toself',\n",
    "        fillcolor='rgba(0,0,150,0.2)',\n",
    "        line=dict(color='rgba(255,255,255,0)'),\n",
    "        hoverinfo=\"skip\",\n",
    "        showlegend=True\n",
    "    ))\n",
    "\n",
    "# for x, y in y_base:\n",
    "#     group = y.dropna()\n",
    "    \n",
    "\n",
    "fig = go.Figure(list_of_lines_ofat)\n",
    "fig.update_layout(xaxis_title=ofat_var,\n",
    "                 yaxis_title='Unemployment')\n",
    "fig.write_html(str(ofat_var)+\"_ofat_qe0.html\")"
   ]
  },
  {
   "cell_type": "markdown",
   "metadata": {},
   "source": [
    "## Save/Load Dataframes"
   ]
  },
  {
   "cell_type": "code",
   "execution_count": 178,
   "metadata": {},
   "outputs": [],
   "source": [
    "large_dataframe.to_csv('ofat_trial_20_samples_wide_ranges_qe_0.csv')"
   ]
  },
  {
   "cell_type": "code",
   "execution_count": 3,
   "metadata": {},
   "outputs": [],
   "source": [
    "large_dataframe = pd.read_csv('ofat_trial_20_samples_wide_ranges_qe_0.csv', index_col= 'Unnamed: 0')  "
   ]
  }
 ],
 "metadata": {
  "kernelspec": {
   "display_name": "Python 3",
   "language": "python",
   "name": "python3"
  },
  "language_info": {
   "codemirror_mode": {
    "name": "ipython",
    "version": 3
   },
   "file_extension": ".py",
   "mimetype": "text/x-python",
   "name": "python",
   "nbconvert_exporter": "python",
   "pygments_lexer": "ipython3",
   "version": "3.7.4"
  }
 },
 "nbformat": 4,
 "nbformat_minor": 4
}
