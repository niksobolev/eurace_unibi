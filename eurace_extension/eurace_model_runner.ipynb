{
 "cells": [
  {
   "cell_type": "code",
   "execution_count": null,
   "metadata": {},
   "outputs": [],
   "source": [
    "import pandas as pd\n",
    "import xml.etree.ElementTree as ET\n",
    "import plotly.express as px\n",
    "import os\n",
    "from datetime import datetime"
   ]
  },
  {
   "cell_type": "markdown",
   "metadata": {},
   "source": [
    "Here we use a trick.\n",
    "EURACE allows to set a step defining how often do we save the data and an offset defining how much should we offset time when we start stepping.\n",
    "But the offset can not be larger than the step.\n",
    "So, we run the model till the time when we need to start saving data with a huge step.\n",
    "Then we're saving the the final state. And then run a new process from this point with normal timestamp that we're interested in."
   ]
  },
  {
   "cell_type": "code",
   "execution_count": null,
   "metadata": {},
   "outputs": [],
   "source": [
    "path = '/data/home/nsov/eurace/original/reproduce_results/'\n",
    "path_to_initial = '/data/home/nsov/eurace/original/trial2/its/45240.xml'\n",
    "\n",
    "dividents = [0.6]\n",
    "number_of_years = 300\n",
    "days = 20 * 12 * number_of_years\n",
    "number_of_steps = 12\n",
    "number_of_steps = number_of_steps - 1\n",
    "months_step = 1\n",
    "step = 20 * months_step\n",
    "offset = (days - number_of_steps * months_step * 20) - 1\n",
    "print(days)\n",
    "print(offset)\n",
    "print(step)\n",
    "\n",
    "print(datetime.now().strftime(\"%H:%M:%S\"))\n",
    "\n",
    "for divident in dividents:\n",
    "    for i in range(0,1):\n",
    "        current_dir = path+\"test_div_{cur_div}_{number}\".format(cur_div = divident, number=i)\n",
    "        try:\n",
    "            os.mkdir(current_dir)\n",
    "        except OSError:\n",
    "            print('ERROR: Failed to create {cur_dir}'.format(cur_dir = current_dir))\n",
    "        os.system('cp {init_file} {target}/0_initial.xml'.format(init_file = path_to_initial, target = current_dir))\n",
    "        os.system('sed -i -e \"s/<GSL_RNG_SEED>0<\\/GSL_RNG_SEED>/<GSL_RNG_SEED>{num}<\\/GSL_RNG_SEED>/\" {cur_dir}/0_initial.xml'.format(num = int(i), cur_dir = current_dir))\n",
    "        os.system('sed -i -e \"s/<const_dividend_earnings_ratio>0.7<\\/const_dividend_earnings_ratio>/<const_dividend_earnings_ratio>{cur_div}<\\/const_dividend_earnings_ratio>/\" {cur_dir}/0_initial.xml'.format(cur_div = divident, cur_dir = current_dir))\n",
    "#         os.system('sed -i -e \"s/<gov_policy_swith_quantitative_easing>1<\\/gov_policy_swith_quantitative_easing>/<gov_policy_swith_quantitative_easing>{qe_state}<\\/gov_policy_swith_quantitative_easing>/\" {cur_dir}/0_initial.xml'.format(qe_state = qe_state, cur_dir = current_dir))\n",
    "#         os.system('/data/home/nsov/eurace/original/trial2/main {days} {cur_dir}/0_initial.xml -f {step}'.format(days = offset + 1, cur_dir=current_dir, step=offset))\n",
    "#         os.system('/data/home/nsov/eurace/original/trial2/main {new_days} {cur_dir}/{offset_file}.xml -f {step}'.format(new_days = number_of_steps * months_step * 20 + 1, cur_dir=current_dir, offset_file=offset, step=step))\n",
    "        os.system('/data/home/nsov/eurace/original/trial2/main {days} {cur_dir}/0_initial.xml -f 60'.format(days = offset + 1, cur_dir=current_dir))\n",
    "        print('Done for '+current_dir)\n",
    "\n",
    "\n",
    "print(datetime.now().strftime(\"%H:%M:%S\"))"
   ]
  },
  {
   "cell_type": "code",
   "execution_count": null,
   "metadata": {},
   "outputs": [],
   "source": []
  }
 ],
 "metadata": {
  "kernelspec": {
   "display_name": "Python 3",
   "language": "python",
   "name": "python3"
  },
  "language_info": {
   "codemirror_mode": {
    "name": "ipython",
    "version": 3
   },
   "file_extension": ".py",
   "mimetype": "text/x-python",
   "name": "python",
   "nbconvert_exporter": "python",
   "pygments_lexer": "ipython3",
   "version": "3.7.4"
  }
 },
 "nbformat": 4,
 "nbformat_minor": 4
}
